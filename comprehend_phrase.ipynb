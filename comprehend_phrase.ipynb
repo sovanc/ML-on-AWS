{
 "cells": [
  {
   "cell_type": "code",
   "execution_count": 1,
   "metadata": {},
   "outputs": [
    {
     "name": "stdout",
     "output_type": "stream",
     "text": [
      "Calling DetectKeyPhrases\n",
      "{\n",
      "    \"KeyPhrases\": [\n",
      "        {\n",
      "            \"BeginOffset\": 7,\n",
      "            \"EndOffset\": 13,\n",
      "            \"Score\": 0.9524774551391602,\n",
      "            \"Text\": \"Canada\"\n",
      "        },\n",
      "        {\n",
      "            \"BeginOffset\": 18,\n",
      "            \"EndOffset\": 28,\n",
      "            \"Score\": 0.9917982220649719,\n",
      "            \"Text\": \"her people\"\n",
      "        },\n",
      "        {\n",
      "            \"BeginOffset\": 39,\n",
      "            \"EndOffset\": 55,\n",
      "            \"Score\": 0.8060999512672424,\n",
      "            \"Text\": \"machine learning\"\n",
      "        }\n",
      "    ],\n",
      "    \"ResponseMetadata\": {\n",
      "        \"HTTPHeaders\": {\n",
      "            \"content-length\": \"260\",\n",
      "            \"content-type\": \"application/x-amz-json-1.1\",\n",
      "            \"date\": \"Wed, 25 Sep 2019 02:08:02 GMT\",\n",
      "            \"x-amzn-requestid\": \"06b9853d-6653-420e-8709-ed7481343eeb\"\n",
      "        },\n",
      "        \"HTTPStatusCode\": 200,\n",
      "        \"RequestId\": \"06b9853d-6653-420e-8709-ed7481343eeb\",\n",
      "        \"RetryAttempts\": 0\n",
      "    }\n",
      "}\n",
      "End of DetectKeyPhrases\n",
      "\n"
     ]
    }
   ],
   "source": [
    "import boto3\n",
    "import json\n",
    "\n",
    "comprehend = boto3.client(service_name='comprehend', region_name='us-east-1')\n",
    "text = \"I love Canada and her people. Let's do machine learning.\"\n",
    "\n",
    "print('Calling DetectKeyPhrases')\n",
    "print(json.dumps(comprehend.detect_key_phrases(Text=text, LanguageCode='en'), sort_keys=True, indent=4))\n",
    "print('End of DetectKeyPhrases\\n')\n"
   ]
  },
  {
   "cell_type": "code",
   "execution_count": null,
   "metadata": {},
   "outputs": [],
   "source": []
  }
 ],
 "metadata": {
  "kernelspec": {
   "display_name": "Python 3",
   "language": "python",
   "name": "python3"
  },
  "language_info": {
   "codemirror_mode": {
    "name": "ipython",
    "version": 3
   },
   "file_extension": ".py",
   "mimetype": "text/x-python",
   "name": "python",
   "nbconvert_exporter": "python",
   "pygments_lexer": "ipython3",
   "version": "3.7.3"
  }
 },
 "nbformat": 4,
 "nbformat_minor": 2
}
