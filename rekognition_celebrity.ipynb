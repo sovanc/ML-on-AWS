{
 "cells": [
  {
   "cell_type": "code",
   "execution_count": 1,
   "metadata": {},
   "outputs": [
    {
     "name": "stdout",
     "output_type": "stream",
     "text": [
      "Detected faces for Star-Trek.jpg\n",
      "Name: Avery Brooks\n",
      "Id: 1bD1jc7d\n",
      "Position: \n",
      "     Left: 0.28\n",
      "     Top: 0.04\n",
      "Info\n",
      " www.imdb.com/name/nm0000984\n",
      "\n",
      "Name: Scott Bakula\n",
      "Id: 3AQ6Ki8Q\n",
      "Position: \n",
      "     Left: 0.26\n",
      "     Top: 0.06\n",
      "Info\n",
      " www.imdb.com/name/nm0000836\n",
      "\n",
      "Name: Patrick Stewart\n",
      "Id: 1mi5kS3d\n",
      "Position: \n",
      "     Left: 0.25\n",
      "     Top: 0.06\n",
      "Info\n",
      " www.imdb.com/name/nm0001772\n",
      "\n",
      "Name: Kate Mulgrew\n",
      "Id: 3v6o7L\n",
      "Position: \n",
      "     Left: 0.22\n",
      "     Top: 0.08\n",
      "Info\n",
      " www.imdb.com/name/nm0000550\n",
      "\n",
      "...\n",
      "\n",
      "What do you think, heh?\n"
     ]
    }
   ],
   "source": [
    "import boto3\n",
    "import json \n",
    "\n",
    "if __name__ == \"__main__\":\n",
    "    imageFile = 'Star-Trek.jpg'\n",
    "    client = boto3.client('rekognition')\n",
    "    \n",
    "    with open(imageFile, 'rb') as image:\n",
    "        response = client.recognize_celebrities(Image = {'Bytes': image.read()})\n",
    "    \n",
    "    print('Detected faces for ' + imageFile)\n",
    "    for celebrity in response['CelebrityFaces']:\n",
    "        print('Name: ' + celebrity['Name'])\n",
    "        print('Id: ' + celebrity['Id'])\n",
    "        print('Position: ')\n",
    "        print('     Left: ' + '{:.2f}'.format(celebrity['Face']['BoundingBox']['Height']))\n",
    "        print('     Top: ' + '{:.2f}'.format(celebrity['Face']['BoundingBox']['Top']))\n",
    "        print('Info')\n",
    "        \n",
    "        for url in celebrity['Urls']:\n",
    "            print(' ' + url)\n",
    "        \n",
    "        print()\n",
    "        \n",
    "    print('...\\n')\n",
    "    print('What do you think, heh?')"
   ]
  },
  {
   "cell_type": "code",
   "execution_count": null,
   "metadata": {},
   "outputs": [],
   "source": []
  }
 ],
 "metadata": {
  "kernelspec": {
   "display_name": "Python 3",
   "language": "python",
   "name": "python3"
  },
  "language_info": {
   "codemirror_mode": {
    "name": "ipython",
    "version": 3
   },
   "file_extension": ".py",
   "mimetype": "text/x-python",
   "name": "python",
   "nbconvert_exporter": "python",
   "pygments_lexer": "ipython3",
   "version": "3.7.3"
  }
 },
 "nbformat": 4,
 "nbformat_minor": 2
}
