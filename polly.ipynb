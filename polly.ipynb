{
 "cells": [
  {
   "cell_type": "code",
   "execution_count": 1,
   "metadata": {},
   "outputs": [
    {
     "name": "stdout",
     "output_type": "stream",
     "text": [
      "pygame 1.9.6\n",
      "Hello from the pygame community. https://www.pygame.org/contribute.html\n"
     ]
    }
   ],
   "source": [
    "import boto3\n",
    "from pygame import mixer\n",
    "import os\n",
    "\n",
    "polly = boto3.client('polly')\n",
    "spoken_text = polly.synthesize_speech(Text='Hi, my name is Larry.  I am the presenter for today. We will learn about machine learning, deep learning and reinforcement learning.',\n",
    "    OutputFormat='mp3',\n",
    "    VoiceId='Matthew')\n",
    "    \n",
    "with open('output.mp3', 'wb') as f:\n",
    "    f.write(spoken_text['AudioStream'].read())\n",
    "    f.close()\n",
    "    \n",
    "mixer.init()\n",
    "mixer.music.load('output.mp3')\n",
    "mixer.music.play()\n",
    "\n",
    "while mixer.music.get_busy() == True:\n",
    "    pass\n",
    "    \n",
    "mixer.quit()\n",
    "#os.remove('output.mp3')"
   ]
  },
  {
   "cell_type": "code",
   "execution_count": null,
   "metadata": {},
   "outputs": [],
   "source": []
  }
 ],
 "metadata": {
  "kernelspec": {
   "display_name": "Python 3",
   "language": "python",
   "name": "python3"
  },
  "language_info": {
   "codemirror_mode": {
    "name": "ipython",
    "version": 3
   },
   "file_extension": ".py",
   "mimetype": "text/x-python",
   "name": "python",
   "nbconvert_exporter": "python",
   "pygments_lexer": "ipython3",
   "version": "3.7.3"
  }
 },
 "nbformat": 4,
 "nbformat_minor": 2
}
