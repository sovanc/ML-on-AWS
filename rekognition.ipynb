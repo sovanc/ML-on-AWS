{
 "cells": [
  {
   "cell_type": "code",
   "execution_count": 1,
   "metadata": {},
   "outputs": [
    {
     "name": "stdout",
     "output_type": "stream",
     "text": [
      "Detected labels in Star-Trek.jpg\n",
      "Human: 99.27916717529297\n",
      "Person: 99.27916717529297\n",
      "People: 95.08299255371094\n",
      "Clothing: 93.51612854003906\n",
      "Apparel: 93.51612854003906\n",
      "Military: 90.31839752197266\n",
      "Military Uniform: 88.73075103759766\n",
      "Soldier: 88.3290023803711\n",
      "Armored: 87.47074127197266\n",
      "Army: 87.47074127197266\n",
      "Performer: 87.1147689819336\n",
      "Team: 77.70999908447266\n",
      "...\n",
      "\n",
      "What do you think, heh?\n"
     ]
    }
   ],
   "source": [
    "import boto3\n",
    "\n",
    "if __name__ == \"__main__\":\n",
    "    imageFile = 'Star-Trek.jpg'\n",
    "    client = boto3.client('rekognition')\n",
    "    \n",
    "    with open(imageFile, 'rb') as image:\n",
    "        response = client.detect_labels(Image = {'Bytes': image.read()})\n",
    "        \n",
    "    print('Detected labels in ' + imageFile)\n",
    "    for label in response['Labels']:\n",
    "        print(label['Name'] + ': ' + str(label['Confidence']))\n",
    "    \n",
    "    print('...\\n')\n",
    "    print('What do you think, heh?')"
   ]
  },
  {
   "cell_type": "code",
   "execution_count": null,
   "metadata": {},
   "outputs": [],
   "source": []
  }
 ],
 "metadata": {
  "kernelspec": {
   "display_name": "Python 3",
   "language": "python",
   "name": "python3"
  },
  "language_info": {
   "codemirror_mode": {
    "name": "ipython",
    "version": 3
   },
   "file_extension": ".py",
   "mimetype": "text/x-python",
   "name": "python",
   "nbconvert_exporter": "python",
   "pygments_lexer": "ipython3",
   "version": "3.7.3"
  }
 },
 "nbformat": 4,
 "nbformat_minor": 2
}
