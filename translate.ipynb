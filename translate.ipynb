{
 "cells": [
  {
   "cell_type": "code",
   "execution_count": 1,
   "metadata": {},
   "outputs": [
    {
     "name": "stdout",
     "output_type": "stream",
     "text": [
      "Hello, my name is Larry.  I'm the presenter today.\n",
      "Translated Text: Hola, me llamo Larry. Hoy soy el presentador.\n",
      "SourceLanguageCode: en\n",
      "TargetLanguageCode: es\n"
     ]
    }
   ],
   "source": [
    "import boto3\n",
    "\n",
    "translate = boto3.client(service_name='translate', region_name='us-east-1', use_ssl=True)\n",
    "t = \"Hello, my name is Larry.  I'm the presenter today.\"\n",
    "result = translate.translate_text(Text=t, SourceLanguageCode=\"en\", TargetLanguageCode=\"es\")\n",
    "print(t)\n",
    "print('Translated Text: ' + result.get('TranslatedText'))\n",
    "print('SourceLanguageCode: ' + result.get('SourceLanguageCode'))\n",
    "print('TargetLanguageCode: ' + result.get('TargetLanguageCode'))\n",
    "\n"
   ]
  },
  {
   "cell_type": "code",
   "execution_count": null,
   "metadata": {},
   "outputs": [],
   "source": []
  }
 ],
 "metadata": {
  "kernelspec": {
   "display_name": "Python 3",
   "language": "python",
   "name": "python3"
  },
  "language_info": {
   "codemirror_mode": {
    "name": "ipython",
    "version": 3
   },
   "file_extension": ".py",
   "mimetype": "text/x-python",
   "name": "python",
   "nbconvert_exporter": "python",
   "pygments_lexer": "ipython3",
   "version": "3.7.3"
  }
 },
 "nbformat": 4,
 "nbformat_minor": 2
}
